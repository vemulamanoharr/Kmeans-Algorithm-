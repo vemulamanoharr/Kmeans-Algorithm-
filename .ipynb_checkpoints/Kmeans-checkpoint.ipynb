{
 "cells": [
  {
   "cell_type": "markdown",
   "metadata": {
    "deletable": true,
    "editable": true
   },
   "source": [
    "# K-Means Algorithm.\n",
    "# Submitted by: Vemula Manohar Reddy\n",
    "# Date: -3/22/2017\n",
    "# Program description:\n",
    "    The following steps are performed in K-means clustering process:\n",
    "    Initialize k cluster centroids repeat the following:\n",
    "    for each point, compute which centroid is nearest to it\n",
    "    for each centroid, move its location to the mean location of the points assigned to it"
   ]
  },
  {
   "cell_type": "code",
   "execution_count": 2,
   "metadata": {
    "collapsed": true,
    "deletable": true,
    "editable": true
   },
   "outputs": [],
   "source": [
    "#imports\n",
    "import csv\n",
    "import numpy as np\n",
    "import pandas as pd\n",
    "from IPython.display import display\n",
    "import matplotlib.pyplot as plt\n",
    "import random\n",
    "import math"
   ]
  },
  {
   "cell_type": "code",
   "execution_count": 3,
   "metadata": {
    "collapsed": true,
    "deletable": true,
    "editable": true
   },
   "outputs": [],
   "source": [
    "def initial_centroids(points,k):\n",
    "    initial_cen = [[] for i in range(k)]\n",
    "    for i in range(k):\n",
    "        r = random.randint(0,len(points)-1)\n",
    "        initial_cen[i] = points[r]\n",
    "    return initial_cen"
   ]
  },
  {
   "cell_type": "code",
   "execution_count": 4,
   "metadata": {
    "collapsed": true,
    "deletable": true,
    "editable": true
   },
   "outputs": [],
   "source": [
    "def distance(a,b):\n",
    "    return math.sqrt((a[0] - b[0])**2 + (a[1] - b[1])**2)"
   ]
  },
  {
   "cell_type": "code",
   "execution_count": 5,
   "metadata": {
    "collapsed": false,
    "deletable": true,
    "editable": true
   },
   "outputs": [],
   "source": [
    "def assign_clusters(points,centroid,k):\n",
    "    cluster = [[] for i in range(k)]\n",
    "    dist = [[] for i in range(len(points))]\n",
    "    for i in range(len(points)):\n",
    "        for j in range(k):\n",
    "            d = distance(points[i],centroid[j])\n",
    "            dist[i].append(d)\n",
    "    for i in range(len(points)):\n",
    "        n = dist[i].index(min(dist[i]))\n",
    "        cluster[n].append(points[i])\n",
    "    return cluster"
   ]
  },
  {
   "cell_type": "code",
   "execution_count": 6,
   "metadata": {
    "collapsed": false,
    "deletable": true,
    "editable": true
   },
   "outputs": [],
   "source": [
    "def update_centroid(cluster,k):\n",
    "    update_cen = [[] for i in range(k)]\n",
    "    for i in range(k):\n",
    "        s1 = 0\n",
    "        s2 = 0\n",
    "        l = len(cluster[i])\n",
    "        if(l==1):\n",
    "            s1+= cluster[i][0][0]\n",
    "            s2+= cluster[i][0][1]\n",
    "        else:\n",
    "            for j in range(l):\n",
    "                s1+= cluster[i][j][0]\n",
    "                s2+= cluster[i][j][1]\n",
    "        s1 = (float(s1)/l)\n",
    "        s2 = (float(s2)/l)\n",
    "        update_cen[i] = [s1,s2]\n",
    "    return update_cen"
   ]
  },
  {
   "cell_type": "code",
   "execution_count": 8,
   "metadata": {
    "collapsed": false,
    "deletable": true,
    "editable": true,
    "scrolled": true
   },
   "outputs": [
    {
     "name": "stdout",
     "output_type": "stream",
     "text": [
      "Enter the value of K:4\n",
      "Enter the dataset: 1 or 22\n",
      "Randaomly selected centroid is: [(3, 3), (5, 5), (18, 22), (6, 2)]\n",
      "\n",
      "Iteration: 1\n",
      "Cluster: 0 [(1, 1), (1, 7), (3, 3)]\n",
      "\n",
      "Cluster: 1 [(3, 9), (4, 6), (4, 8), (5, 5), (7, 6), (8, 8), (10, 6), (10, 10)]\n",
      "\n",
      "Cluster: 2 [(18, 22)]\n",
      "\n",
      "Cluster: 3 [(6, 2), (9, 1), (10, 4), (12, 2)]\n",
      "\n"
     ]
    },
    {
     "data": {
      "image/png": "[encoded data removed]",
      "text/plain": [
       "<matplotlib.figure.Figure at 0xad69e80>"
      ]
     },
     "metadata": {},
     "output_type": "display_data"
    },
    {
     "name": "stdout",
     "output_type": "stream",
     "text": [
      "Updated centroid is: [[1.6666666666666667, 3.6666666666666665], [6.375, 7.25], [18.0, 22.0], [9.25, 2.25]]\n",
      "\n",
      "Iteration:  2\n"
     ]
    },
    {
     "data": {
      "image/png": "[encoded data removed]",
      "text/plain": [
       "<matplotlib.figure.Figure at 0xb15c6d8>"
      ]
     },
     "metadata": {},
     "output_type": "display_data"
    },
    {
     "name": "stdout",
     "output_type": "stream",
     "text": [
      "Cluster: 0 [(1, 1), (1, 7), (3, 3)]\n",
      "\n",
      "Cluster: 1 [(3, 9), (4, 6), (4, 8), (5, 5), (7, 6), (8, 8), (10, 10)]\n",
      "\n",
      "Cluster: 2 [(18, 22)]\n",
      "\n",
      "Cluster: 3 [(6, 2), (9, 1), (10, 4), (10, 6), (12, 2)]\n",
      "\n",
      "Updated centroid is: [[1.6666666666666667, 3.6666666666666665], [5.857142857142857, 7.428571428571429], [18.0, 22.0], [9.4, 3.0]]\n",
      "\n",
      "Iteration:  3\n"
     ]
    },
    {
     "data": {
      "image/png": "[encoded data removed]",
      "text/plain": [
       "<matplotlib.figure.Figure at 0xb296278>"
      ]
     },
     "metadata": {},
     "output_type": "display_data"
    },
    {
     "name": "stdout",
     "output_type": "stream",
     "text": [
      "Cluster: 0 [(1, 1), (1, 7), (3, 3)]\n",
      "\n",
      "Cluster: 1 [(3, 9), (4, 6), (4, 8), (5, 5), (7, 6), (8, 8), (10, 10)]\n",
      "\n",
      "Cluster: 2 [(18, 22)]\n",
      "\n",
      "Cluster: 3 [(6, 2), (9, 1), (10, 4), (10, 6), (12, 2)]\n",
      "\n",
      "Updated centroid is: [[1.6666666666666667, 3.6666666666666665], [5.857142857142857, 7.428571428571429], [18.0, 22.0], [9.4, 3.0]]\n",
      "\n",
      "Centroids matched\n"
     ]
    }
   ],
   "source": [
    "# k-means function\n",
    "# data set\n",
    "k = int(input(\"Enter the value of K:\"))\n",
    "dset = int(input(\"Enter the dataset: 1 or 2\"))\n",
    "if(dset==1):\n",
    "    data = pd.read_csv('data.csv')\n",
    "elif(dset==2):\n",
    "    data = pd.read_csv('data2.csv')\n",
    "x = list(data.X)\n",
    "y = list(data.Y)\n",
    "points = [() for i in range(len(x))]\n",
    "for i in range(len(x)):\n",
    "        points[i]=(x[i],y[i])\n",
    "cent = initial_centroids(points,k)\n",
    "cluster = assign_clusters(points,cent,k)\n",
    "print \"Randaomly selected centroid is:\",cent\n",
    "print\n",
    "print \"Iteration: 1\"\n",
    "for loop in range(k):\n",
    "    print 'Cluster:',loop,cluster[loop]\n",
    "    print(\"\")\n",
    "plt.scatter(*(zip(*points)),color='blue')\n",
    "for i in range(k):\n",
    "    plt.scatter(cent[i][0],cent[i][1],color='red')\n",
    "plt.show()\n",
    "cent_new = update_centroid(cluster,k)\n",
    "print \"Updated centroid is:\", cent_new\n",
    "print\n",
    "m = 2\n",
    "while(cent_new != cent):\n",
    "    new_cluster = assign_clusters(points,cent_new,k)\n",
    "    print \"Iteration: \", m\n",
    "    m=m+1\n",
    "    plt.scatter(*(zip(*points)),color='blue')\n",
    "    for i in range(k):\n",
    "        plt.scatter(cent_new[i][0],cent_new[i][1],color='red')\n",
    "    plt.show()\n",
    "    for loop in range(k):\n",
    "        print 'Cluster:',loop,new_cluster[loop]\n",
    "        print(\"\")\n",
    "    cent = cent_new\n",
    "    cent_new = update_centroid(new_cluster,k)\n",
    "    print\"Updated centroid is:\", cent_new\n",
    "    print\n",
    "print\"Centroids matched\""
   ]
  },
  {
   "cell_type": "code",
   "execution_count": null,
   "metadata": {
    "collapsed": true,
    "deletable": true,
    "editable": true
   },
   "outputs": [],
   "source": []
  },
  {
   "cell_type": "code",
   "execution_count": null,
   "metadata": {
    "collapsed": true,
    "deletable": true,
    "editable": true
   },
   "outputs": [],
   "source": []
  }
 ],
 "metadata": {
  "kernelspec": {
   "display_name": "Python 2",
   "language": "python",
   "name": "python2"
  },
  "language_info": {
   "codemirror_mode": {
    "name": "ipython",
    "version": 2
   },
   "file_extension": ".py",
   "mimetype": "text/x-python",
   "name": "python",
   "nbconvert_exporter": "python",
   "pygments_lexer": "ipython2",
   "version": "2.7.13"
  }
 },
 "nbformat": 4,
 "nbformat_minor": 2
}
